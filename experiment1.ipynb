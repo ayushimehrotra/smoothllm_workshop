{
 "cells": [
  {
   "cell_type": "code",
   "execution_count": 1,
   "id": "9eb1e808",
   "metadata": {},
   "outputs": [
    {
     "name": "stdout",
     "output_type": "stream",
     "text": [
      "stdlib: /.autofs/tools/spack/opt/spack/linux-rhel9-skylake_avx512/gcc-12.3.1/python-3.11.7-rcb4bhwxf5cnwfbomr6lf6re6cflittg/lib/python3.11\n",
      "lib-dynload: /.autofs/tools/spack/opt/spack/linux-rhel9-skylake_avx512/gcc-12.3.1/python-3.11.7-rcb4bhwxf5cnwfbomr6lf6re6cflittg/lib/python3.11/lib-dynload\n",
      "user_site: /home/am5715/.local/lib/python3.11/site-packages\n",
      "sys.path[0:5]: ['/home/am5715/smoothllm_workshop', '/.autofs/tools/spack/var/spack/environments/default-ml-x86_64-24071101/.spack-env/view/lib/scons', '', '/.autofs/tools/spack/opt/spack/linux-rhel9-skylake_avx512/gcc-12.3.1/python-3.11.7-rcb4bhwxf5cnwfbomr6lf6re6cflittg/lib/python311.zip', '/.autofs/tools/spack/opt/spack/linux-rhel9-skylake_avx512/gcc-12.3.1/python-3.11.7-rcb4bhwxf5cnwfbomr6lf6re6cflittg/lib/python3.11']\n"
     ]
    }
   ],
   "source": [
    "import os, sys, site, sysconfig, importlib.abc\n",
    "\n",
    "# Disable optional backends we don't want\n",
    "os.environ[\"ACCELERATE_DISABLE_BNB\"] = \"1\"\n",
    "os.environ[\"TRANSFORMERS_SKIP_AWS\"] = \"1\"\n",
    "os.environ[\"HF_HUB_OFFLINE\"] = \"1\"\n",
    "os.environ[\"TRANSFORMERS_OFFLINE\"] = \"1\"\n",
    "\n",
    "# Restore stdlib + dynamic extension dir (mmap, _ssl, etc.)\n",
    "paths = sysconfig.get_paths()\n",
    "stdlib = paths[\"stdlib\"]\n",
    "platstdlib = paths.get(\"platstdlib\", stdlib)\n",
    "lib_dyn = os.path.join(stdlib, \"lib-dynload\")\n",
    "\n",
    "def _ins(p):\n",
    "    if p and p not in sys.path:\n",
    "        sys.path.insert(0, p)\n",
    "\n",
    "_ins(stdlib)\n",
    "_ins(platstdlib)\n",
    "_ins(lib_dyn)\n",
    "\n",
    "# Prefer your user site over cluster site-packages\n",
    "user_site = site.getusersitepackages()\n",
    "_ins(user_site)\n",
    "\n",
    "# Drop ONLY Spack *site-packages* (keep stdlib!)\n",
    "def _is_spack_sitepkgs(p: str) -> bool:\n",
    "    n = p.replace(\"\\\\\", \"/\")\n",
    "    return (\"/spack/\" in n or \"/.spack-env/\" in n) and (\"site-packages\" in n or \"dist-packages\" in n)\n",
    "sys.path = [p for p in sys.path if not _is_spack_sitepkgs(p)]\n",
    "\n",
    "# Block AWS SDKs by reporting \"not found\" instead of raising\n",
    "class _BlockAWS(importlib.abc.MetaPathFinder):\n",
    "    def find_spec(self, fullname, path=None, target=None):\n",
    "        if fullname.startswith((\"boto3\", \"botocore\")):\n",
    "            return None  # say \"not found\" (safe for importlib.util.find_spec)\n",
    "        return None\n",
    "sys.meta_path.insert(0, _BlockAWS())\n",
    "\n",
    "# Clean any previously imported AWS modules\n",
    "for m in (\"boto3\", \"botocore\"):\n",
    "    if m in sys.modules:\n",
    "        del sys.modules[m]\n",
    "\n",
    "print(\"stdlib:\", stdlib)\n",
    "print(\"lib-dynload:\", lib_dyn)\n",
    "print(\"user_site:\", user_site)\n",
    "print(\"sys.path[0:5]:\", sys.path[:5])\n"
   ]
  },
  {
   "cell_type": "code",
   "execution_count": 2,
   "id": "7fa4bc83",
   "metadata": {},
   "outputs": [
    {
     "name": "stderr",
     "output_type": "stream",
     "text": [
      "/home/am5715/.local/lib/python3.11/site-packages/sklearn/utils/_param_validation.py:11: UserWarning: A NumPy version >=1.23.5 and <2.3.0 is required for this version of SciPy (detected version 2.3.2)\n",
      "  from scipy.sparse import csr_matrix, issparse\n",
      "2025-08-21 15:50:03.072572: I tensorflow/core/util/port.cc:153] oneDNN custom operations are on. You may see slightly different numerical results due to floating-point round-off errors from different computation orders. To turn them off, set the environment variable `TF_ENABLE_ONEDNN_OPTS=0`.\n",
      "2025-08-21 15:50:03.145530: I tensorflow/core/platform/cpu_feature_guard.cc:210] This TensorFlow binary is optimized to use available CPU instructions in performance-critical operations.\n",
      "To enable the following instructions: AVX2 AVX512F AVX512_VNNI FMA, in other operations, rebuild TensorFlow with the appropriate compiler flags.\n",
      "/home/am5715/.local/lib/python3.11/site-packages/google/protobuf/runtime_version.py:98: UserWarning: Protobuf gencode version 5.28.3 is exactly one major version older than the runtime version 6.31.1 at tensorflow/core/framework/attr_value.proto. Please update the gencode to avoid compatibility violations in the next runtime release.\n",
      "  warnings.warn(\n",
      "/home/am5715/.local/lib/python3.11/site-packages/google/protobuf/runtime_version.py:98: UserWarning: Protobuf gencode version 5.28.3 is exactly one major version older than the runtime version 6.31.1 at tensorflow/core/framework/tensor.proto. Please update the gencode to avoid compatibility violations in the next runtime release.\n",
      "  warnings.warn(\n",
      "/home/am5715/.local/lib/python3.11/site-packages/google/protobuf/runtime_version.py:98: UserWarning: Protobuf gencode version 5.28.3 is exactly one major version older than the runtime version 6.31.1 at tensorflow/core/framework/resource_handle.proto. Please update the gencode to avoid compatibility violations in the next runtime release.\n",
      "  warnings.warn(\n",
      "/home/am5715/.local/lib/python3.11/site-packages/google/protobuf/runtime_version.py:98: UserWarning: Protobuf gencode version 5.28.3 is exactly one major version older than the runtime version 6.31.1 at tensorflow/core/framework/tensor_shape.proto. Please update the gencode to avoid compatibility violations in the next runtime release.\n",
      "  warnings.warn(\n",
      "/home/am5715/.local/lib/python3.11/site-packages/google/protobuf/runtime_version.py:98: UserWarning: Protobuf gencode version 5.28.3 is exactly one major version older than the runtime version 6.31.1 at tensorflow/core/framework/types.proto. Please update the gencode to avoid compatibility violations in the next runtime release.\n",
      "  warnings.warn(\n",
      "/home/am5715/.local/lib/python3.11/site-packages/google/protobuf/runtime_version.py:98: UserWarning: Protobuf gencode version 5.28.3 is exactly one major version older than the runtime version 6.31.1 at tensorflow/core/framework/full_type.proto. Please update the gencode to avoid compatibility violations in the next runtime release.\n",
      "  warnings.warn(\n",
      "/home/am5715/.local/lib/python3.11/site-packages/google/protobuf/runtime_version.py:98: UserWarning: Protobuf gencode version 5.28.3 is exactly one major version older than the runtime version 6.31.1 at tensorflow/core/framework/function.proto. Please update the gencode to avoid compatibility violations in the next runtime release.\n",
      "  warnings.warn(\n",
      "/home/am5715/.local/lib/python3.11/site-packages/google/protobuf/runtime_version.py:98: UserWarning: Protobuf gencode version 5.28.3 is exactly one major version older than the runtime version 6.31.1 at tensorflow/core/framework/node_def.proto. Please update the gencode to avoid compatibility violations in the next runtime release.\n",
      "  warnings.warn(\n",
      "/home/am5715/.local/lib/python3.11/site-packages/google/protobuf/runtime_version.py:98: UserWarning: Protobuf gencode version 5.28.3 is exactly one major version older than the runtime version 6.31.1 at tensorflow/core/framework/op_def.proto. Please update the gencode to avoid compatibility violations in the next runtime release.\n",
      "  warnings.warn(\n",
      "/home/am5715/.local/lib/python3.11/site-packages/google/protobuf/runtime_version.py:98: UserWarning: Protobuf gencode version 5.28.3 is exactly one major version older than the runtime version 6.31.1 at tensorflow/core/framework/graph.proto. Please update the gencode to avoid compatibility violations in the next runtime release.\n",
      "  warnings.warn(\n",
      "/home/am5715/.local/lib/python3.11/site-packages/google/protobuf/runtime_version.py:98: UserWarning: Protobuf gencode version 5.28.3 is exactly one major version older than the runtime version 6.31.1 at tensorflow/core/framework/graph_debug_info.proto. Please update the gencode to avoid compatibility violations in the next runtime release.\n",
      "  warnings.warn(\n",
      "/home/am5715/.local/lib/python3.11/site-packages/google/protobuf/runtime_version.py:98: UserWarning: Protobuf gencode version 5.28.3 is exactly one major version older than the runtime version 6.31.1 at tensorflow/core/framework/versions.proto. Please update the gencode to avoid compatibility violations in the next runtime release.\n",
      "  warnings.warn(\n",
      "/home/am5715/.local/lib/python3.11/site-packages/google/protobuf/runtime_version.py:98: UserWarning: Protobuf gencode version 5.28.3 is exactly one major version older than the runtime version 6.31.1 at tensorflow/core/protobuf/config.proto. Please update the gencode to avoid compatibility violations in the next runtime release.\n",
      "  warnings.warn(\n",
      "/home/am5715/.local/lib/python3.11/site-packages/google/protobuf/runtime_version.py:98: UserWarning: Protobuf gencode version 5.28.3 is exactly one major version older than the runtime version 6.31.1 at xla/tsl/protobuf/coordination_config.proto. Please update the gencode to avoid compatibility violations in the next runtime release.\n",
      "  warnings.warn(\n",
      "/home/am5715/.local/lib/python3.11/site-packages/google/protobuf/runtime_version.py:98: UserWarning: Protobuf gencode version 5.28.3 is exactly one major version older than the runtime version 6.31.1 at tensorflow/core/framework/cost_graph.proto. Please update the gencode to avoid compatibility violations in the next runtime release.\n",
      "  warnings.warn(\n",
      "/home/am5715/.local/lib/python3.11/site-packages/google/protobuf/runtime_version.py:98: UserWarning: Protobuf gencode version 5.28.3 is exactly one major version older than the runtime version 6.31.1 at tensorflow/core/framework/step_stats.proto. Please update the gencode to avoid compatibility violations in the next runtime release.\n",
      "  warnings.warn(\n",
      "/home/am5715/.local/lib/python3.11/site-packages/google/protobuf/runtime_version.py:98: UserWarning: Protobuf gencode version 5.28.3 is exactly one major version older than the runtime version 6.31.1 at tensorflow/core/framework/allocation_description.proto. Please update the gencode to avoid compatibility violations in the next runtime release.\n",
      "  warnings.warn(\n",
      "/home/am5715/.local/lib/python3.11/site-packages/google/protobuf/runtime_version.py:98: UserWarning: Protobuf gencode version 5.28.3 is exactly one major version older than the runtime version 6.31.1 at tensorflow/core/framework/tensor_description.proto. Please update the gencode to avoid compatibility violations in the next runtime release.\n",
      "  warnings.warn(\n",
      "/home/am5715/.local/lib/python3.11/site-packages/google/protobuf/runtime_version.py:98: UserWarning: Protobuf gencode version 5.28.3 is exactly one major version older than the runtime version 6.31.1 at tensorflow/core/protobuf/cluster.proto. Please update the gencode to avoid compatibility violations in the next runtime release.\n",
      "  warnings.warn(\n",
      "/home/am5715/.local/lib/python3.11/site-packages/google/protobuf/runtime_version.py:98: UserWarning: Protobuf gencode version 5.28.3 is exactly one major version older than the runtime version 6.31.1 at tensorflow/core/protobuf/debug.proto. Please update the gencode to avoid compatibility violations in the next runtime release.\n",
      "  warnings.warn(\n",
      "2025-08-21 15:50:04.849271: I tensorflow/core/util/port.cc:153] oneDNN custom operations are on. You may see slightly different numerical results due to floating-point round-off errors from different computation orders. To turn them off, set the environment variable `TF_ENABLE_ONEDNN_OPTS=0`.\n"
     ]
    },
    {
     "data": {
      "text/plain": [
       "'/home/am5715/smoothllm_workshop'"
      ]
     },
     "execution_count": 2,
     "metadata": {},
     "output_type": "execute_result"
    }
   ],
   "source": [
    "import torch\n",
    "import numpy as np\n",
    "import pandas as pd\n",
    "from tqdm.auto import tqdm\n",
    "import fastchat\n",
    "\n",
    "import smoothllm.lib.perturbations as perturbations\n",
    "import smoothllm.lib.defenses as defenses\n",
    "import smoothllm.lib.attacks as attacks\n",
    "import smoothllm.lib.language_models as language_models\n",
    "import smoothllm.lib.model_configs as model_configs\n",
    "\n",
    "os.getcwd()"
   ]
  },
  {
   "cell_type": "code",
   "execution_count": 3,
   "id": "f88b0cc3",
   "metadata": {},
   "outputs": [],
   "source": [
    "torch.cuda.empty_cache()\n",
    "\n",
    "results_dir= './results'\n",
    "trial=0\n",
    "\n",
    "# Targeted LLM\n",
    "target_model= 'llama2'\n",
    "\n",
    "# Attacking LLM\n",
    "attack='GCG'\n",
    "attack_logfile='smoothllm/data/GCG/llama2_behaviors.json'\n",
    "\n",
    "# SmoothLLM\n",
    "smoothllm_num_copies=4\n",
    "smoothllm_pert_pct=20\n",
    "smoothllm_pert_type='PositionalSwapPerturbation'"
   ]
  },
  {
   "cell_type": "code",
   "execution_count": null,
   "id": "69ebbb90",
   "metadata": {},
   "outputs": [
    {
     "data": {
      "application/vnd.jupyter.widget-view+json": {
       "model_id": "fbcbba96fd984129bda183c291884f19",
       "version_major": 2,
       "version_minor": 0
      },
      "text/plain": [
       "Loading checkpoint shards:   0%|          | 0/2 [00:00<?, ?it/s]"
      ]
     },
     "metadata": {},
     "output_type": "display_data"
    },
    {
     "data": {
      "application/vnd.jupyter.widget-view+json": {
       "model_id": "387f80716db54c1eb5d993baf2ddadc1",
       "version_major": 2,
       "version_minor": 0
      },
      "text/plain": [
       "0it [00:00, ?it/s]"
      ]
     },
     "metadata": {},
     "output_type": "display_data"
    },
    {
     "data": {
      "application/vnd.jupyter.widget-view+json": {
       "model_id": "dedd65d4532e43e7bacdefb0c7624b1b",
       "version_major": 2,
       "version_minor": 0
      },
      "text/plain": [
       "0it [00:00, ?it/s]"
      ]
     },
     "metadata": {},
     "output_type": "display_data"
    }
   ],
   "source": [
    "# Create output directories\n",
    "os.makedirs(results_dir, exist_ok=True)\n",
    "\n",
    "# Instantiate the targeted LLM\n",
    "config = model_configs.MODELS[target_model]\n",
    "target_model = language_models.LLM(\n",
    "    model_path=config['model_path'],\n",
    "    tokenizer_path=config['tokenizer_path'],\n",
    "    conv_template_name=config['conversation_template'],\n",
    "    device='cuda:0'\n",
    ")\n",
    "\n",
    "# Create SmoothLLM instance\n",
    "defense = defenses.SmoothLLM(\n",
    "    target_model=target_model,\n",
    "    pert_type=smoothllm_pert_type,\n",
    "    pert_pct=smoothllm_pert_pct,\n",
    "    num_copies=smoothllm_num_copies\n",
    ")\n",
    "\n",
    "# Create attack instance, used to create prompts\n",
    "attack = vars(attacks)[attack](\n",
    "    logfile=attack_logfile,\n",
    "    target_model=target_model\n",
    ")\n",
    "\n",
    "# Checking defense success rate with different positions\n",
    "jb_percentage = []\n",
    "for position in range(146):\n",
    "    jailbroken_results = []\n",
    "    for _ in range(30):\n",
    "        for i, prompt in tqdm(enumerate(attack.prompts)):\n",
    "            output = defense(prompt, position)\n",
    "            jb = defense.is_jailbroken(output)\n",
    "            jailbroken_results.append(jb)\n",
    "    print(f\"For position {position}, Attack Accuracy was {np.mean(jailbroken_results)}\")\n",
    "    jb_percentage.append(np.mean(jailbroken_results))\n",
    "\n",
    "\n",
    "# Save results to a pandas DataFrame\n",
    "summary_df = pd.DataFrame.from_dict({\n",
    "    'Number of smoothing copies': [smoothllm_num_copies],\n",
    "    'Perturbation type': [smoothllm_pert_type],\n",
    "    'Perturbation percentage': [smoothllm_pert_pct],\n",
    "    'JB percentage': [np.mean(jailbroken_results) * 100],\n",
    "    'Trial index': [trial]\n",
    "})\n",
    "\n",
    "print(summary_df.to_string())"
   ]
  },
  {
   "cell_type": "code",
   "execution_count": null,
   "id": "a57bd024",
   "metadata": {},
   "outputs": [],
   "source": [
    "np.mean(jb_percentage), np.std(jb_percentage)"
   ]
  },
  {
   "cell_type": "code",
   "execution_count": null,
   "id": "aaca5b65",
   "metadata": {},
   "outputs": [],
   "source": [
    "print(jb_percentage)"
   ]
  }
 ],
 "metadata": {
  "kernelspec": {
   "display_name": "Python 3 (ipykernel)",
   "language": "python",
   "name": "python3"
  },
  "language_info": {
   "codemirror_mode": {
    "name": "ipython",
    "version": 3
   },
   "file_extension": ".py",
   "mimetype": "text/x-python",
   "name": "python",
   "nbconvert_exporter": "python",
   "pygments_lexer": "ipython3",
   "version": "3.11.7"
  }
 },
 "nbformat": 4,
 "nbformat_minor": 5
}
